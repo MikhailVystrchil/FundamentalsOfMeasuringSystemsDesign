{
 "cells": [
  {
   "cell_type": "markdown",
   "metadata": {},
   "source": [
    "# Объектно-ориентированное программирование"
   ]
  },
  {
   "cell_type": "markdown",
   "metadata": {},
   "source": [
    "## Основные понятия объектно-ориентированного программирования"
   ]
  },
  {
   "cell_type": "markdown",
   "metadata": {},
   "source": [
    "> **Объектно-ориентированное программирование (ООП)** является методологией разработки программного обеспечения, в основе которой лежит понятие класса и объекта, при этом сама программа создается как некоторая совокупность объектов, которые взаимодействую друг с другом и с внешним миром. \n",
    "\n",
    "Каждый объект является экземпляром некоторого класса. \n",
    "\n",
    "Классы образуют иерархии. \n",
    "\n",
    "Более подробно о понятии ООП можно прочитать на [википедии](https://ru.wikipedia.org/wiki/Объектно-ориентированное_программирование).\n",
    "\n",
    "Выделяют четыре основных “столпа” ООП- это: \n",
    "* абстракция;\n",
    "* инкапсуляция; \n",
    "* наследование;\n",
    "* полиморфизм."
   ]
  },
  {
   "cell_type": "markdown",
   "metadata": {},
   "source": [
    "### Абстракция\n",
    "\n",
    "> **Абстрагирование означает выделение значимой информации и исключение из рассмотрения незначимой.** \n",
    "\n",
    "В ООП рассматривают лишь абстракцию данных (нередко называя её просто «абстракцией»), подразумевая набор наиболее значимых характеристик объекта, доступных остальной программе."
   ]
  },
  {
   "cell_type": "markdown",
   "metadata": {},
   "source": [
    "### Инкапсуляция\n",
    "\n",
    "> **Под инкапсуляцией понимается сокрытие деталей реализации, данных и т.п. от внешней стороны.**\n",
    "\n",
    "Например, можно определить класс “холодильник”, который будет содержать следующие данные: \n",
    "* производитель,\n",
    "* объем,\n",
    "* количество камер хранения,\n",
    "* потребляемая мощность и т.п., \n",
    "\n",
    "и методы: \n",
    "* открыть/закрыть холодильник, \n",
    "* включить/выключить, \n",
    "но при этом реализация того, как происходит непосредственно включение и выключение пользователю вашего класса не доступна, что позволяет ее менять без опасения, что это может отразиться на использующей класс «холодильник» программе. \n",
    "\n",
    "При этом класс становится новым типом данных в рамках разрабатываемой программы. \n",
    "\n",
    "Можно создавать переменные этого нового типа, такие переменные называются объекты."
   ]
  },
  {
   "cell_type": "markdown",
   "metadata": {},
   "source": [
    "### Наследование\n",
    "\n",
    "> **Под наследованием понимается возможность создания нового класса на базе существующего.**\n",
    "\n",
    "Наследование предполагает наличие отношения “является” между классом наследником и классом родителем. При этом класс потомок будет содержать те же атрибуты и методы, что и базовый класс, но при этом его можно расширять через добавление новых методов и атрибутов.\n",
    "\n",
    "Примером базового класса, демонстрирующего наследование, можно определить класс “автомобиль”, имеющий атрибуты: \n",
    "* масса, \n",
    "* мощность двигателя\n",
    "* объем топливного бака \n",
    "\n",
    "и методы: \n",
    "* завести\n",
    "* заглушить. \n",
    "\n",
    "У такого класса может быть потомок – “грузовой автомобиль”, он будет содержать те же атрибуты и методы, что и класс “автомобиль”, и дополнительные свойства: \n",
    "* количество осей\n",
    "* мощность компрессора и т.п."
   ]
  },
  {
   "cell_type": "markdown",
   "metadata": {},
   "source": [
    "### Полиморфизм\n",
    "\n",
    "> **Полиморфизм позволяет одинаково обращаться с объектами, имеющими однотипный интерфейс, независимо от внутренней реализации объекта.**\n",
    "\n",
    "Например, с объектом класса “грузовой автомобиль” можно производить те же операции, что и с объектом класса “автомобиль”, т.к. первый является наследником второго, при этом обратное утверждение неверно (во всяком случае не всегда). \n",
    "\n",
    "> **Другими словами полиморфизм предполагает разную реализацию методов с одинаковыми именами.**\n",
    "\n",
    "Это очень полезно при наследовании, когда в классе наследнике можно переопределить методы класса родителя."
   ]
  },
  {
   "cell_type": "markdown",
   "metadata": {},
   "source": [
    "## Классы в Python"
   ]
  },
  {
   "cell_type": "markdown",
   "metadata": {},
   "source": [
    "### Создание классов и объектов\n",
    "\n",
    "Создание класса в ```Python``` начинается с инструкции ```class```. Вот так будет выглядеть минимальный класс.\n",
    "\n",
    "```python\n",
    "class C: \n",
    "    pass\n",
    "```\n",
    "\n",
    "Класс состоит из объявления (инструкция ```class```), имени класса (нашем случае это имя ```C```) и тела класса, которое содержит атрибуты и методы (в нашем минимальном классе есть только одна инструкция ```pass```).\n",
    "\n",
    "Для того чтобы создать объект класса необходимо воспользоваться следующим синтаксисом:\n",
    "\n",
    "```python\n",
    "имя_объекта = имя_класса()\n",
    "```"
   ]
  },
  {
   "cell_type": "code",
   "execution_count": null,
   "metadata": {},
   "outputs": [],
   "source": [
    "class C: \n",
    "    pass\n",
    "\n",
    "c_obj_1 = C()\n",
    "c_obj_2 = C()\n",
    "\n",
    "\n",
    "print(c_obj_1, type(c_obj_1), end=\"\\n\"*2)\n",
    "print(c_obj_2, type(c_obj_2), end=\"\\n\"*2)\n",
    "\n",
    "print(dir(c_obj_2))"
   ]
  },
  {
   "cell_type": "markdown",
   "metadata": {},
   "source": [
    "### Конструктор класса и инициализация экземпляра класса\n",
    "\n",
    "В ```Python``` разделяют **конструктор класса** и **метод для инициализации экземпляра класса**. \n",
    "\n",
    "Конструктор класса это метод ```__new__(cls, *args, **kwargs)``` для инициализации экземпляра класса используется метод ```__init__(self)```. \n",
    "\n",
    "Метод ```__new__``` редко переопределяется, чаще используется реализация от базового класса ```object```, ```__init__``` же наоборот является очень удобным способом задать параметры объекта при его создании.\n",
    "\n",
    "Создадим реализацию класса ```Rectangle``` с измененным инициализатором:"
   ]
  },
  {
   "cell_type": "code",
   "execution_count": null,
   "metadata": {},
   "outputs": [],
   "source": [
    "class Rectangle:\n",
    "    def __init__(self):\n",
    "        print(\"Hello from Rectangle __init__\")"
   ]
  },
  {
   "cell_type": "code",
   "execution_count": null,
   "metadata": {},
   "outputs": [],
   "source": [
    "rect = Rectangle()"
   ]
  },
  {
   "cell_type": "markdown",
   "metadata": {},
   "source": [
    "### Статические и динамические атрибуты класса\n",
    "\n",
    "Как уже было сказано выше, класс может содержать ```атрибуты``` и ```методы```. \n",
    "\n",
    "> **Атрибут** может быть ```статическим``` и ```динамическим``` (уровня объекта класса). \n",
    "\n",
    "> **Суть в том, что для работы со статическим атрибутом, вам не нужно создавать экземпляр класса, а для работы с динамическим – нужно.**\n",
    "\n",
    "Пример:"
   ]
  },
  {
   "cell_type": "code",
   "execution_count": null,
   "metadata": {},
   "outputs": [],
   "source": [
    "class Rectangle:\n",
    "    default_color = \"green\"\n",
    "    \n",
    "    def __init__(self, width, height):\n",
    "        self.width = width\n",
    "        self.height = height"
   ]
  },
  {
   "cell_type": "markdown",
   "metadata": {},
   "source": [
    "В представленном выше классе, атрибут ```default_color``` – это статический атрибут, и доступ к нему можно получить не создавая объект класса ```Rectangle```."
   ]
  },
  {
   "cell_type": "code",
   "execution_count": null,
   "metadata": {},
   "outputs": [],
   "source": [
    "print(Rectangle.default_color)"
   ]
  },
  {
   "cell_type": "markdown",
   "metadata": {},
   "source": [
    "```width``` и ```height``` – это **динамические атрибуты**, при их создании было использовано ключевое слово ```self```. \n",
    "\n",
    "Пока просто примите это как должное, более подробно про ```self``` будет рассказано ниже. \n",
    "\n",
    "Для доступа к ```width``` и ```height``` предварительно нужно создать объект класса ```Rectangle```:"
   ]
  },
  {
   "cell_type": "code",
   "execution_count": null,
   "metadata": {},
   "outputs": [],
   "source": [
    "rect = Rectangle(10, 20)\n",
    "\n",
    "print(rect.width)\n",
    "print(rect.height)\n",
    "print(rect.default_color)"
   ]
  },
  {
   "cell_type": "markdown",
   "metadata": {},
   "source": [
    "Если обратиться через класс, то получим ошибку:"
   ]
  },
  {
   "cell_type": "code",
   "execution_count": null,
   "metadata": {},
   "outputs": [],
   "source": [
    "print(Rectangle.width)    # AttributeError: type object 'Rectangle' has no attribute 'width'"
   ]
  },
  {
   "cell_type": "markdown",
   "metadata": {},
   "source": [
    "При этом, если вы обратитесь к статическому атрибуту через экземпляр класса, то все будет нормально, до тех пор, пока вы не попытаетесь его поменять. \n",
    "\n",
    "Проверим ещё раз значение атрибута ```default_color```:"
   ]
  },
  {
   "cell_type": "code",
   "execution_count": null,
   "metadata": {},
   "outputs": [],
   "source": [
    "print(Rectangle.default_color)"
   ]
  },
  {
   "cell_type": "markdown",
   "metadata": {},
   "source": [
    "Присвоим ему новое значение:"
   ]
  },
  {
   "cell_type": "code",
   "execution_count": null,
   "metadata": {},
   "outputs": [],
   "source": [
    "Rectangle.default_color = \"red\"\n",
    "\n",
    "print(Rectangle.default_color)"
   ]
  },
  {
   "cell_type": "markdown",
   "metadata": {},
   "source": [
    "Создадим два объекта класса Rectangle и проверим, что ```default_color``` у них совпадает:"
   ]
  },
  {
   "cell_type": "code",
   "execution_count": null,
   "metadata": {},
   "outputs": [],
   "source": [
    "r1 = Rectangle(1, 2)\n",
    "r2 = Rectangle(10, 20)\n",
    "\n",
    "print(Rectangle.default_color)\n",
    "print(r1.default_color)\n",
    "print(r2.default_color)\n",
    "print()\n",
    "\n",
    "Rectangle.default_color = \"blue\"\n",
    "\n",
    "print(Rectangle.default_color)\n",
    "print(r1.default_color)\n",
    "print(r2.default_color)\n",
    "print()\n",
    "\n",
    "r1.default_color = \"black\"\n",
    "\n",
    "print(Rectangle.default_color)\n",
    "print(r1.default_color)            # sic!!!\n",
    "print(r2.default_color)\n",
    "print()"
   ]
  },
  {
   "cell_type": "code",
   "execution_count": null,
   "metadata": {},
   "outputs": [],
   "source": [
    "r2.area = 200\n",
    "print(r2.area)\n",
    "print(r1.area)"
   ]
  },
  {
   "cell_type": "markdown",
   "metadata": {},
   "source": [
    "Если поменять значение ```default_color``` через имя класса ```Rectangle```, то все будет ожидаемо: у объектов ```r1``` и ```r2``` это значение изменится, но если поменять его через экземпляр класса, то у экземпляра будет создан атрибут с таким же именем как статический, а доступ к последнему будет потерян"
   ]
  },
  {
   "cell_type": "markdown",
   "metadata": {},
   "source": [
    "## Методы класса"
   ]
  },
  {
   "cell_type": "markdown",
   "metadata": {},
   "source": [
    " **Метод** – это функция, находящаяся внутри класса и выполняющая определенную работу.\n",
    "\n",
    "Методы бывают ```статическими```, ```классовыми``` (среднее между статическими и обычными) и ```уровня класса``` (будем их называть просто словом метод). \n",
    "\n",
    "Статический метод создается с декоратором ```@staticmethod```, классовый – с декоратором ```@classmethod```, первым аргументом в него передается ```cls```, обычный метод создается без специального декоратора, ему первым аргументом передается ```self```:"
   ]
  },
  {
   "cell_type": "code",
   "execution_count": null,
   "metadata": {},
   "outputs": [],
   "source": [
    "class MyClass:\n",
    "    \n",
    "    @staticmethod\n",
    "    def ex_static_method():\n",
    "        print(\"MyClass static method\")\n",
    "        \n",
    "    @classmethod\n",
    "    def ex_class_method(cls):\n",
    "        print(\"MyClass class method\")\n",
    "        \n",
    "    def ex_method(self):\n",
    "        print(\"MyClass method\")"
   ]
  },
  {
   "cell_type": "markdown",
   "metadata": {},
   "source": [
    "Статический и классовый метод можно вызвать, не создавая экземпляр класса, для вызова ```ex_method()``` нужен объект:"
   ]
  },
  {
   "cell_type": "code",
   "execution_count": null,
   "metadata": {},
   "outputs": [],
   "source": [
    "MyClass.ex_static_method()\n",
    "\n",
    "MyClass.ex_class_method()\n",
    "\n",
    "MyClass.ex_method()            # TypeError: ex_method() missing 1 required positional argument: 'self'"
   ]
  },
  {
   "cell_type": "code",
   "execution_count": null,
   "metadata": {},
   "outputs": [],
   "source": [
    "m = MyClass()\n",
    "\n",
    "m.ex_method()"
   ]
  },
  {
   "cell_type": "markdown",
   "metadata": {},
   "source": [
    "### Что такое ```self```?\n",
    "\n",
    "До этого момента вы уже успели познакомиться с ключевым словом ```self```. \n",
    "\n",
    "> **```self```** – это ссылка на текущий экземпляр класса, в таких языках как ```Java```, ```C#``` аналогом является ключевое слово ```this```. \n",
    "\n",
    "Через ```self``` вы получаете доступ к атрибутам и методам класса внутри него:"
   ]
  },
  {
   "cell_type": "code",
   "execution_count": null,
   "metadata": {},
   "outputs": [],
   "source": [
    "class Rectangle:\n",
    "    \n",
    "    def __init__(self, width, height):\n",
    "        self.width = width\n",
    "        self.height = height\n",
    "        \n",
    "    def area(self):\n",
    "        return self.width * self.height"
   ]
  },
  {
   "cell_type": "markdown",
   "metadata": {},
   "source": [
    "В приведенной реализации метод area получает доступ к атрибутам ```width``` и ```height``` для расчета площади. \n",
    "\n",
    "Если бы в качестве первого параметра не было указано ```self```, то при попытке вызвать area программа была бы остановлена с ошибкой."
   ]
  },
  {
   "cell_type": "code",
   "execution_count": null,
   "metadata": {},
   "outputs": [],
   "source": [
    "rect = Rectangle(10, 20)\n",
    "\n",
    "print(rect.area())"
   ]
  },
  {
   "cell_type": "markdown",
   "metadata": {},
   "source": [
    "***\n",
    "***"
   ]
  }
 ],
 "metadata": {
  "kernelspec": {
   "display_name": "Python 3 (ipykernel)",
   "language": "python",
   "name": "python3"
  },
  "language_info": {
   "codemirror_mode": {
    "name": "ipython",
    "version": 3
   },
   "file_extension": ".py",
   "mimetype": "text/x-python",
   "name": "python",
   "nbconvert_exporter": "python",
   "pygments_lexer": "ipython3",
   "version": "3.12.0"
  },
  "toc": {
   "base_numbering": 1,
   "nav_menu": {},
   "number_sections": true,
   "sideBar": true,
   "skip_h1_title": false,
   "title_cell": "Table of Contents",
   "title_sidebar": "Contents",
   "toc_cell": true,
   "toc_position": {},
   "toc_section_display": true,
   "toc_window_display": false
  }
 },
 "nbformat": 4,
 "nbformat_minor": 4
}
