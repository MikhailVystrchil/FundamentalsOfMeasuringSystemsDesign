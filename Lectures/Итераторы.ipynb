{
 "cells": [
  {
   "cell_type": "code",
   "execution_count": 1,
   "id": "8d43a349-5b5e-4ca9-bf65-e92b191453a0",
   "metadata": {},
   "outputs": [],
   "source": [
    "lst_ = [1, 2, 3, 4]\n",
    "str_ = \"abcd\"\n",
    "rng1_4 = range(1, 5)"
   ]
  },
  {
   "cell_type": "code",
   "execution_count": 2,
   "id": "c5e248a1-9eb4-4e79-a974-3f05131a6680",
   "metadata": {},
   "outputs": [
    {
     "name": "stdout",
     "output_type": "stream",
     "text": [
      "1 <class 'int'>\n",
      "2 <class 'int'>\n",
      "3 <class 'int'>\n",
      "4 <class 'int'>\n"
     ]
    }
   ],
   "source": [
    "for elm in lst_:\n",
    "    print(elm, type(elm))"
   ]
  },
  {
   "cell_type": "code",
   "execution_count": 3,
   "id": "5f434482-99e1-457e-a939-0ca26a716cdb",
   "metadata": {},
   "outputs": [
    {
     "name": "stdout",
     "output_type": "stream",
     "text": [
      "a <class 'str'>\n",
      "b <class 'str'>\n",
      "c <class 'str'>\n",
      "d <class 'str'>\n"
     ]
    }
   ],
   "source": [
    "for elm in str_:\n",
    "    print(elm, type(elm))"
   ]
  },
  {
   "cell_type": "code",
   "execution_count": 4,
   "id": "67c7e5d4-34b5-466a-b23c-2f88499779da",
   "metadata": {},
   "outputs": [
    {
     "name": "stdout",
     "output_type": "stream",
     "text": [
      "1 <class 'int'>\n",
      "2 <class 'int'>\n",
      "3 <class 'int'>\n",
      "4 <class 'int'>\n"
     ]
    }
   ],
   "source": [
    "for elm in rng1_4:\n",
    "    print(elm, type(elm))"
   ]
  },
  {
   "cell_type": "code",
   "execution_count": 5,
   "id": "e0055ca9-2f09-49b5-8808-d6d5cfcf8f11",
   "metadata": {},
   "outputs": [
    {
     "name": "stdout",
     "output_type": "stream",
     "text": [
      "1 <class 'int'>\n",
      "2 <class 'int'>\n",
      "3 <class 'int'>\n",
      "4 <class 'int'>\n"
     ]
    }
   ],
   "source": [
    "lst_iter = iter(lst_)\n",
    "while True:\n",
    "    try:\n",
    "        elm = next(lst_iter)\n",
    "        print(elm, type(elm))\n",
    "    except StopIteration:\n",
    "        break"
   ]
  },
  {
   "cell_type": "code",
   "execution_count": 6,
   "id": "0c20e38d-5305-416e-b31f-0358ca31f1b2",
   "metadata": {},
   "outputs": [
    {
     "name": "stdout",
     "output_type": "stream",
     "text": [
      "1\n",
      "2\n",
      "3\n",
      "4\n"
     ]
    },
    {
     "ename": "StopIteration",
     "evalue": "",
     "output_type": "error",
     "traceback": [
      "\u001b[0;31m---------------------------------------------------------------------------\u001b[0m",
      "\u001b[0;31mStopIteration\u001b[0m                             Traceback (most recent call last)",
      "Cell \u001b[0;32mIn[6], line 7\u001b[0m\n\u001b[1;32m      5\u001b[0m \u001b[38;5;28mprint\u001b[39m(\u001b[38;5;28mnext\u001b[39m(rng1_4_iter))\n\u001b[1;32m      6\u001b[0m \u001b[38;5;28mprint\u001b[39m(\u001b[38;5;28mnext\u001b[39m(rng1_4_iter))\n\u001b[0;32m----> 7\u001b[0m \u001b[38;5;28mprint\u001b[39m(\u001b[38;5;28;43mnext\u001b[39;49m\u001b[43m(\u001b[49m\u001b[43mrng1_4_iter\u001b[49m\u001b[43m)\u001b[49m)\n\u001b[1;32m      8\u001b[0m \u001b[38;5;28mprint\u001b[39m(\u001b[38;5;28mnext\u001b[39m(rng1_4_iter))\n",
      "\u001b[0;31mStopIteration\u001b[0m: "
     ]
    }
   ],
   "source": [
    "rng1_4_iter = iter(rng1_4)\n",
    "\n",
    "print(next(rng1_4_iter))\n",
    "print(next(rng1_4_iter))\n",
    "print(next(rng1_4_iter))\n",
    "print(next(rng1_4_iter))\n",
    "print(next(rng1_4_iter))\n",
    "print(next(rng1_4_iter))"
   ]
  },
  {
   "cell_type": "code",
   "execution_count": 7,
   "id": "0c243603-3b1f-4282-831d-1395dab1e163",
   "metadata": {},
   "outputs": [
    {
     "name": "stdout",
     "output_type": "stream",
     "text": [
      "a\n",
      "b\n",
      "c\n",
      "d\n"
     ]
    },
    {
     "ename": "StopIteration",
     "evalue": "",
     "output_type": "error",
     "traceback": [
      "\u001b[0;31m---------------------------------------------------------------------------\u001b[0m",
      "\u001b[0;31mStopIteration\u001b[0m                             Traceback (most recent call last)",
      "Cell \u001b[0;32mIn[7], line 7\u001b[0m\n\u001b[1;32m      5\u001b[0m \u001b[38;5;28mprint\u001b[39m(str_iter\u001b[38;5;241m.\u001b[39m\u001b[38;5;21m__next__\u001b[39m())\n\u001b[1;32m      6\u001b[0m \u001b[38;5;28mprint\u001b[39m(str_iter\u001b[38;5;241m.\u001b[39m\u001b[38;5;21m__next__\u001b[39m())\n\u001b[0;32m----> 7\u001b[0m \u001b[38;5;28mprint\u001b[39m(\u001b[43mstr_iter\u001b[49m\u001b[38;5;241;43m.\u001b[39;49m\u001b[38;5;21;43m__next__\u001b[39;49m\u001b[43m(\u001b[49m\u001b[43m)\u001b[49m)\n\u001b[1;32m      8\u001b[0m \u001b[38;5;28mprint\u001b[39m(str_iter\u001b[38;5;241m.\u001b[39m\u001b[38;5;21m__next__\u001b[39m())\n",
      "\u001b[0;31mStopIteration\u001b[0m: "
     ]
    }
   ],
   "source": [
    "str_iter = str_.__iter__()\n",
    "\n",
    "print(str_iter.__next__())\n",
    "print(str_iter.__next__())\n",
    "print(str_iter.__next__())\n",
    "print(str_iter.__next__())\n",
    "print(str_iter.__next__())\n",
    "print(str_iter.__next__())"
   ]
  },
  {
   "cell_type": "code",
   "execution_count": 8,
   "id": "78a2cd1f-7b61-417f-9a30-b1166927c55c",
   "metadata": {},
   "outputs": [
    {
     "name": "stdout",
     "output_type": "stream",
     "text": [
      "1\n",
      "3\n",
      "5\n",
      "7\n"
     ]
    }
   ],
   "source": [
    "for elm in range(1, 8, 2):\n",
    "    print(elm)"
   ]
  },
  {
   "cell_type": "code",
   "execution_count": 9,
   "id": "5db2d910-037b-44b4-9953-7e3a9dc22248",
   "metadata": {},
   "outputs": [
    {
     "ename": "TypeError",
     "evalue": "'float' object cannot be interpreted as an integer",
     "output_type": "error",
     "traceback": [
      "\u001b[0;31m---------------------------------------------------------------------------\u001b[0m",
      "\u001b[0;31mTypeError\u001b[0m                                 Traceback (most recent call last)",
      "Cell \u001b[0;32mIn[9], line 1\u001b[0m\n\u001b[0;32m----> 1\u001b[0m \u001b[38;5;28;01mfor\u001b[39;00m elm \u001b[38;5;129;01min\u001b[39;00m \u001b[38;5;28;43mrange\u001b[39;49m\u001b[43m(\u001b[49m\u001b[38;5;241;43m1\u001b[39;49m\u001b[43m,\u001b[49m\u001b[43m \u001b[49m\u001b[38;5;241;43m8\u001b[39;49m\u001b[43m,\u001b[49m\u001b[43m \u001b[49m\u001b[38;5;241;43m0.5\u001b[39;49m\u001b[43m)\u001b[49m:\n\u001b[1;32m      2\u001b[0m     \u001b[38;5;28mprint\u001b[39m(elm)\n",
      "\u001b[0;31mTypeError\u001b[0m: 'float' object cannot be interpreted as an integer"
     ]
    }
   ],
   "source": [
    "for elm in range(1, 8, 0.5):\n",
    "    print(elm)"
   ]
  },
  {
   "cell_type": "code",
   "execution_count": 10,
   "id": "a2bf0973-4f03-4710-8528-926c7b5dee5a",
   "metadata": {},
   "outputs": [],
   "source": [
    "class MyRange:\n",
    "\n",
    "    def __init__(self, start, stop, step):\n",
    "        self.start = start\n",
    "        self.stop = stop\n",
    "        self.step = step\n",
    "        self.curent_value = start\n",
    "\n",
    "    def __iter__(self):\n",
    "        return self\n",
    "\n",
    "    def __next__(self):\n",
    "        curent_value = self.curent_value\n",
    "        if curent_value < self.stop:\n",
    "            self.curent_value += self.step \n",
    "            return curent_value\n",
    "        raise StopIteration "
   ]
  },
  {
   "cell_type": "code",
   "execution_count": 12,
   "id": "38c9dfe6-42cb-4cde-9420-99b60da4c72c",
   "metadata": {},
   "outputs": [
    {
     "name": "stdout",
     "output_type": "stream",
     "text": [
      "1.123\n",
      "1.623\n",
      "2.123\n",
      "2.623\n",
      "3.123\n",
      "3.623\n",
      "4.123\n",
      "4.623\n",
      "5.123\n",
      "5.623\n",
      "6.123\n",
      "6.623\n",
      "7.123\n",
      "7.623\n"
     ]
    }
   ],
   "source": [
    "for elm in MyRange(1.123, 8, 0.5):\n",
    "    print(elm)"
   ]
  },
  {
   "cell_type": "code",
   "execution_count": null,
   "id": "be788fb6-d784-4c5a-a67d-b3c1eea3c024",
   "metadata": {},
   "outputs": [],
   "source": []
  }
 ],
 "metadata": {
  "kernelspec": {
   "display_name": "Python 3 (ipykernel)",
   "language": "python",
   "name": "python3"
  },
  "language_info": {
   "codemirror_mode": {
    "name": "ipython",
    "version": 3
   },
   "file_extension": ".py",
   "mimetype": "text/x-python",
   "name": "python",
   "nbconvert_exporter": "python",
   "pygments_lexer": "ipython3",
   "version": "3.12.0"
  }
 },
 "nbformat": 4,
 "nbformat_minor": 5
}
