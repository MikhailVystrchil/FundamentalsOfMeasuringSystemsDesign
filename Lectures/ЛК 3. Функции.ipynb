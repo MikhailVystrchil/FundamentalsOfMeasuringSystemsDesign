{
 "cells": [
  {
   "cell_type": "markdown",
   "metadata": {
    "toc": true
   },
   "source": [
    "<h1>Table of Contents<span class=\"tocSkip\"></span></h1>\n",
    "<div class=\"toc\"><ul class=\"toc-item\"><li><span><a href=\"#Функции\" data-toc-modified-id=\"Функции-1\"><span class=\"toc-item-num\">1&nbsp;&nbsp;</span>Функции</a></span><ul class=\"toc-item\"><li><span><a href=\"#Именные-функции,-инструкция-def\" data-toc-modified-id=\"Именные-функции,-инструкция-def-1.1\"><span class=\"toc-item-num\">1.1&nbsp;&nbsp;</span>Именные функции, инструкция <code>def</code></a></span></li><li><span><a href=\"#Аргументы-функции\" data-toc-modified-id=\"Аргументы-функции-1.2\"><span class=\"toc-item-num\">1.2&nbsp;&nbsp;</span>Аргументы функции</a></span></li><li><span><a href=\"#Вложенные-функции\" data-toc-modified-id=\"Вложенные-функции-1.3\"><span class=\"toc-item-num\">1.3&nbsp;&nbsp;</span>Вложенные функции</a></span><ul class=\"toc-item\"><li><span><a href=\"#Методы,-функции-и-атрибуты,-связанные-с-объектами-функции\" data-toc-modified-id=\"Методы,-функции-и-атрибуты,-связанные-с-объектами-функции-1.3.1\"><span class=\"toc-item-num\">1.3.1&nbsp;&nbsp;</span>Методы, функции и атрибуты, связанные с объектами функции</a></span></li></ul></li><li><span><a href=\"#Рекурсивные-функции\" data-toc-modified-id=\"Рекурсивные-функции-1.4\"><span class=\"toc-item-num\">1.4&nbsp;&nbsp;</span>Рекурсивные функции</a></span><ul class=\"toc-item\"><li><span><a href=\"#Снежинка-Коха\" data-toc-modified-id=\"Снежинка-Коха-1.4.1\"><span class=\"toc-item-num\">1.4.1&nbsp;&nbsp;</span>Снежинка Коха</a></span></li><li><span><a href=\"#Дракон-Хартера-—-Хейтуэя\" data-toc-modified-id=\"Дракон-Хартера-—-Хейтуэя-1.4.2\"><span class=\"toc-item-num\">1.4.2&nbsp;&nbsp;</span>Дракон Хартера — Хейтуэя</a></span></li></ul></li><li><span><a href=\"#Глобальная-переменная\" data-toc-modified-id=\"Глобальная-переменная-1.5\"><span class=\"toc-item-num\">1.5&nbsp;&nbsp;</span>Глобальная переменная</a></span></li><li><span><a href=\"#Анонимная-функция:-лямбда\" data-toc-modified-id=\"Анонимная-функция:-лямбда-1.6\"><span class=\"toc-item-num\">1.6&nbsp;&nbsp;</span>Анонимная функция: лямбда</a></span><ul class=\"toc-item\"><li><span><a href=\"#Зачем-использовать-лямбда-функции?\" data-toc-modified-id=\"Зачем-использовать-лямбда-функции?-1.6.1\"><span class=\"toc-item-num\">1.6.1&nbsp;&nbsp;</span>Зачем использовать лямбда-функции?</a></span></li></ul></li></ul></li></ul></div>"
   ]
  },
  {
   "cell_type": "markdown",
   "metadata": {},
   "source": [
    "# Функции"
   ]
  },
  {
   "cell_type": "markdown",
   "metadata": {},
   "source": [
    "## Именные функции, инструкция ```def```\n",
    "**Функция в ```python```** - объект, принимающий аргументы и возвращающий значение. \n",
    "\n",
    "Обычно функция определяется с помощью инструкции ```def```.\n",
    "\n",
    "> Определим простейшую функцию:"
   ]
  },
  {
   "cell_type": "code",
   "execution_count": null,
   "metadata": {},
   "outputs": [],
   "source": [
    "def simple_func():\n",
    "    pass"
   ]
  },
  {
   "cell_type": "code",
   "execution_count": null,
   "metadata": {},
   "outputs": [],
   "source": [
    "def simple_func():\n",
    "\n",
    "    #SyntaxError: incomplete input"
   ]
  },
  {
   "cell_type": "markdown",
   "metadata": {},
   "source": [
    "Реализуем функцию суммы:"
   ]
  },
  {
   "cell_type": "code",
   "execution_count": null,
   "metadata": {},
   "outputs": [],
   "source": [
    "def my_sum(x, y):\n",
    "    return x + y"
   ]
  },
  {
   "cell_type": "markdown",
   "metadata": {},
   "source": [
    "Инструкция ```return``` говорит, что нужно вернуть значение. \n",
    "\n",
    "В нашем случае функция возвращает сумму ```x``` и ```y```.\n",
    "\n",
    "Теперь мы можем ее вызвать:"
   ]
  },
  {
   "cell_type": "code",
   "execution_count": null,
   "metadata": {},
   "outputs": [],
   "source": [
    "my_sum(2, 3)"
   ]
  },
  {
   "cell_type": "code",
   "execution_count": null,
   "metadata": {},
   "outputs": [],
   "source": [
    "result = my_sum(2, 2)\n",
    "print(result)"
   ]
  },
  {
   "cell_type": "markdown",
   "metadata": {},
   "source": [
    "***\n",
    "***\n",
    "\n",
    "> Если инструкции ```return``` нет, тогда по умолчанию функция будет возвращать объект ```None```"
   ]
  },
  {
   "cell_type": "code",
   "execution_count": null,
   "metadata": {},
   "outputs": [],
   "source": [
    "def my_sum(x, y):\n",
    "    print(f\"Распечатанная из функции сумма: {x} + {y} = {x + y}\")\n",
    "\n",
    "rezult = my_sum(2, 3)\n",
    "\n",
    "print(rezult, type(rezult), sep=\"\\t\")"
   ]
  },
  {
   "cell_type": "code",
   "execution_count": null,
   "metadata": {},
   "outputs": [],
   "source": [
    "def my_sum(x, y):\n",
    "    print(f\"Распечатанная из функции сумма: {x} + {y} = {x + y}\")\n",
    "    return None\n",
    "\n",
    "rezult = my_sum(2, 2, 3)\n",
    "\n",
    "print(rezult, type(rezult), sep=\"\\t\")"
   ]
  },
  {
   "cell_type": "markdown",
   "metadata": {},
   "source": [
    "***\n",
    "***\n",
    "\n",
    "## Аргументы функции\n",
    "\n",
    "Функция может принимать произвольное количество аргументов или не принимать их вовсе. \n",
    "\n",
    "Также распространены функции с произвольным числом аргументов, функции с позиционными и именованными аргументами, обязательными и необязательными.\n",
    "\n",
    "В функции можно использовать неограниченное количество параметров, но число аргументов должно точно соответствовать параметрам. \n",
    "\n",
    "> **Параметр** — это имя в списке параметров в первой строке определения функции. Он получает свое значение при вызове. \n",
    "\n",
    "> **Аргумент** — это реальное значение или ссылка на него, переданное функции при вызове.\n",
    "\n",
    "Эти параметры представляют собой позиционные аргументы. Также ```Python``` предоставляет возможность определять значения по умолчанию, которые можно задавать с помощью аргументов-ключевых слов."
   ]
  },
  {
   "cell_type": "code",
   "execution_count": null,
   "metadata": {},
   "outputs": [],
   "source": [
    "def func(a, b, c=3):      # c - необязательный аргумент\n",
    "    return a + b + c"
   ]
  },
  {
   "cell_type": "code",
   "execution_count": null,
   "metadata": {},
   "outputs": [],
   "source": [
    "rezult = func(1, 2)\n",
    "print(rezult)             # 1 + 2 + 3"
   ]
  },
  {
   "cell_type": "code",
   "execution_count": null,
   "metadata": {},
   "outputs": [],
   "source": [
    "rezult = func(a=1, b=2)\n",
    "print(rezult)             # 1 + 2 + 3"
   ]
  },
  {
   "cell_type": "code",
   "execution_count": null,
   "metadata": {},
   "outputs": [],
   "source": [
    "rezult = func(1, 2, 7)    # a=1, b=2, c=7\n",
    "print(rezult)             # 1 + 2 + 7"
   ]
  },
  {
   "cell_type": "code",
   "execution_count": null,
   "metadata": {},
   "outputs": [],
   "source": [
    "rezult = func(b=\"a\", a=\"b\", c=\"c\")    # a=\"a\", b=\"a\", c=\"a\"\n",
    "print(rezult)             # b + a + c"
   ]
  },
  {
   "cell_type": "code",
   "execution_count": null,
   "metadata": {},
   "outputs": [],
   "source": [
    "rezult = func(a=1, c=2)\n",
    "print(rezult)             # TypeError: func() missing 1 required positional argument: 'b'"
   ]
  },
  {
   "cell_type": "code",
   "execution_count": null,
   "metadata": {},
   "outputs": [],
   "source": [
    "rezult = func(c=1, 2, 7)\n",
    "print(rezult)             # SyntaxError: positional argument follows keyword argument"
   ]
  },
  {
   "cell_type": "markdown",
   "metadata": {},
   "source": [
    "> **Если использовать необязательный параметр, тогда все, что указаны справа, должны быть параметрами по умолчанию.**"
   ]
  },
  {
   "cell_type": "code",
   "execution_count": null,
   "metadata": {},
   "outputs": [],
   "source": [
    "def func(c=3, a, b):      # SyntaxError: non-default argument follows default argument\n",
    "    return a + b + c"
   ]
  },
  {
   "cell_type": "markdown",
   "metadata": {},
   "source": [
    "***\n",
    "***"
   ]
  }
 ],
 "metadata": {
  "kernelspec": {
   "display_name": "Python 3 (ipykernel)",
   "language": "python",
   "name": "python3"
  },
  "language_info": {
   "codemirror_mode": {
    "name": "ipython",
    "version": 3
   },
   "file_extension": ".py",
   "mimetype": "text/x-python",
   "name": "python",
   "nbconvert_exporter": "python",
   "pygments_lexer": "ipython3",
   "version": "3.12.0"
  },
  "toc": {
   "base_numbering": 1,
   "nav_menu": {},
   "number_sections": true,
   "sideBar": true,
   "skip_h1_title": false,
   "title_cell": "Table of Contents",
   "title_sidebar": "Contents",
   "toc_cell": true,
   "toc_position": {},
   "toc_section_display": true,
   "toc_window_display": false
  }
 },
 "nbformat": 4,
 "nbformat_minor": 4
}
